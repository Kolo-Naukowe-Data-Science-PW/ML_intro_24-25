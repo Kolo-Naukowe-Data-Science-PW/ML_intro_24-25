{
 "cells": [
  {
   "cell_type": "code",
   "execution_count": 1,
   "metadata": {},
   "outputs": [],
   "source": [
    "import pandas as pd\n",
    "\n",
    "from sklearn.model_selection import train_test_split\n",
    "from sklearn.preprocessing import StandardScaler"
   ]
  },
  {
   "cell_type": "code",
   "execution_count": 1,
   "metadata": {},
   "outputs": [
    {
     "ename": "NameError",
     "evalue": "name 'pd' is not defined",
     "output_type": "error",
     "traceback": [
      "\u001b[1;31m---------------------------------------------------------------------------\u001b[0m",
      "\u001b[1;31mNameError\u001b[0m                                 Traceback (most recent call last)",
      "Cell \u001b[1;32mIn[1], line 1\u001b[0m\n\u001b[1;32m----> 1\u001b[0m data \u001b[38;5;241m=\u001b[39m pd\u001b[38;5;241m.\u001b[39mread_csv(\u001b[38;5;124m\"\u001b[39m\u001b[38;5;124mhttps://raw.githubusercontent.com/Kolo-Naukowe-Data-Science-PW/ML_intro_24-25/refs/heads/main/data/Loan_Default.csv\u001b[39m\u001b[38;5;124m\"\u001b[39m)\n",
      "\u001b[1;31mNameError\u001b[0m: name 'pd' is not defined"
     ]
    }
   ],
   "source": [
    "data = pd.read_csv(\"https://raw.githubusercontent.com/Kolo-Naukowe-Data-Science-PW/ML_intro_24-25/refs/heads/main/data/Loan_Default.csv\")"
   ]
  },
  {
   "cell_type": "code",
   "execution_count": 11,
   "metadata": {},
   "outputs": [],
   "source": [
    "y = data['Status']\n",
    "x = data.drop(['Status', 'ID', 'year'], axis=1) # Usunięcie kolumn ID i year, nic nie wniosą do modelu"
   ]
  },
  {
   "cell_type": "code",
   "execution_count": 14,
   "metadata": {},
   "outputs": [],
   "source": [
    "X_train, X_test, y_train, y_test = train_test_split(x, y, test_size=0.2, random_state=42)"
   ]
  },
  {
   "cell_type": "code",
   "execution_count": 18,
   "metadata": {},
   "outputs": [
    {
     "name": "stdout",
     "output_type": "stream",
     "text": [
      "Braki w danych Kateogrycznych\n"
     ]
    },
    {
     "data": {
      "text/plain": [
       "loan_limit                   3344\n",
       "Gender                          0\n",
       "approv_in_adv                 908\n",
       "loan_type                       0\n",
       "loan_purpose                  134\n",
       "Credit_Worthiness               0\n",
       "open_credit                     0\n",
       "business_or_commercial          0\n",
       "Neg_ammortization             121\n",
       "interest_only                   0\n",
       "lump_sum_payment                0\n",
       "construction_type               0\n",
       "occupancy_type                  0\n",
       "Secured_by                      0\n",
       "total_units                     0\n",
       "credit_type                     0\n",
       "co-applicant_credit_type        0\n",
       "age                           200\n",
       "submission_of_application     200\n",
       "Region                          0\n",
       "Security_Type                   0\n",
       "dtype: int64"
      ]
     },
     "execution_count": 18,
     "metadata": {},
     "output_type": "execute_result"
    }
   ],
   "source": [
    "categorical_columns = [col for col in X_train.columns if X_train[col].dtype == 'object']\n",
    "numerical_columns = [col for col in X_train.columns if X_train[col].dtype in ['int64', 'float64']]\n",
    "\n",
    "print(\"Braki w danych Kateogrycznych\")\n",
    "data[categorical_columns].isnull().sum() "
   ]
  },
  {
   "cell_type": "code",
   "execution_count": 19,
   "metadata": {},
   "outputs": [
    {
     "name": "stdout",
     "output_type": "stream",
     "text": [
      "Braki w danych Numerycznych\n"
     ]
    },
    {
     "data": {
      "text/plain": [
       "loan_amount                 0\n",
       "rate_of_interest        36439\n",
       "Interest_rate_spread    36639\n",
       "Upfront_charges         39642\n",
       "term                       41\n",
       "property_value          15098\n",
       "income                   9150\n",
       "Credit_Score                0\n",
       "LTV                     15098\n",
       "dtir1                   24121\n",
       "dtype: int64"
      ]
     },
     "execution_count": 19,
     "metadata": {},
     "output_type": "execute_result"
    }
   ],
   "source": [
    "print(\"Braki w danych Numerycznych\")\n",
    "data[numerical_columns].isnull().sum()"
   ]
  },
  {
   "cell_type": "code",
   "execution_count": 22,
   "metadata": {},
   "outputs": [
    {
     "data": {
      "text/plain": [
       "loan_limit  Gender             approv_in_adv  loan_type  loan_purpose  Credit_Worthiness  open_credit  business_or_commercial  Neg_ammortization  interest_only  lump_sum_payment  construction_type  occupancy_type  Secured_by  total_units  credit_type  co-applicant_credit_type  age    submission_of_application  Region  Security_Type\n",
       "cf          Joint              nopre          type1      p4            l1                 nopc         nob/c                   not_neg            not_int        not_lpsm          sb                 pr              home        1U           CIB          EXP                       35-44  not_inst                   North   direct           432\n",
       "            Sex Not Available  nopre          type1      p3            l1                 nopc         nob/c                   not_neg            not_int        not_lpsm          sb                 pr              home        1U           CRIF         CIB                       55-64  to_inst                    south   direct           404\n",
       "                                                                                                                                                                                                                                               CIB          CIB                       55-64  to_inst                    south   direct           393\n",
       "            Joint              nopre          type1      p4            l1                 nopc         nob/c                   not_neg            not_int        not_lpsm          sb                 pr              home        1U           CRIF         EXP                       35-44  not_inst                   North   direct           337\n",
       "            Sex Not Available  nopre          type1      p3            l1                 nopc         nob/c                   not_neg            not_int        not_lpsm          sb                 pr              home        1U           CIB          CIB                       45-54  to_inst                    south   direct           325\n",
       "                                                                                                                                                                                                                                                                                                                                                ... \n",
       "            Female             nopre          type1      p1            l1                 nopc         nob/c                   neg_amm            int_only       not_lpsm          sb                 pr              home        1U           EXP          CIB                       45-54  to_inst                    North   direct             1\n",
       "                                                                                                                                                                                                                                                                                      35-44  not_inst                   North   direct             1\n",
       "                                                                                                                                                                                                                                               EQUI         EXP                       45-54  to_inst                    North   direct             1\n",
       "                                                                                                                                                                                                                                               CRIF         CIB                       55-64  to_inst                    south   direct             1\n",
       "                                                                                                                                                                                                                                               CIB          CIB                       <25    not_inst                   south   direct             1\n",
       "Name: count, Length: 30331, dtype: int64"
      ]
     },
     "execution_count": 22,
     "metadata": {},
     "output_type": "execute_result"
    }
   ],
   "source": [
    "data[categorical_columns].value_counts()"
   ]
  },
  {
   "cell_type": "markdown",
   "metadata": {},
   "source": [
    "## TODO\n",
    "* Poeksperymentować z rónymi wariantami pipeline'ów, potestować rózne uzupełnianie braków, kodowanie zmiennych kategorycznych\n",
    "*  "
   ]
  },
  {
   "cell_type": "markdown",
   "metadata": {},
   "source": [
    "# Bartosz Preprocessing"
   ]
  },
  {
   "cell_type": "code",
   "execution_count": null,
   "metadata": {},
   "outputs": [
    {
     "name": "stderr",
     "output_type": "stream",
     "text": [
      "c:\\Users\\bzabk\\anaconda3\\Lib\\site-packages\\pandas\\core\\arrays\\masked.py:60: UserWarning: Pandas requires version '1.3.6' or newer of 'bottleneck' (version '1.3.5' currently installed).\n",
      "  from pandas.core import (\n"
     ]
    }
   ],
   "source": [
    "import pandas as pd\n",
    "import seaborn as sns\n",
    "import matplotlib.pyplot as plt\n",
    "!pip install feature_engine, category-encoders"
   ]
  },
  {
   "cell_type": "markdown",
   "metadata": {},
   "source": [
    "    \"| Column Name            | Description                                                                                           |\\n\",\n",
    "    \"|---------------------------|--------------------------------------------------------------------------------------------------|\\n\",\n",
    "    \"| ID                        | Client loan application ID                                                                      |\\n\",\n",
    "    \"| year                      | Year of loan application                                                                         |\\n\",\n",
    "    \"| loan_limit                | Indicates whether the loan is conforming (cf) or non-conforming (ncf)                           |\\n\",\n",
    "    \"| Gender                    | Gender of the applicant (male, female, joint, sex not available)                               |\\n\",\n",
    "    \"| approv_in_adv             | Indicates whether the loan was approved in advance (pre, nopre)                                 |\\n\",\n",
    "    \"| loan_type                 | Type of loan (type1, type2, type3)                                                               |\\n\",\n",
    "    \"| loan_purpose              | Purpose of the loan (p1, p2, p3, p4)                                                             |\\n\",\n",
    "    \"| Credit_Worthiness         | Credit worthiness (l1, l2)                                                                       |\\n\",\n",
    "    \"| open_credit               | Indicates whether the applicant has any open credit accounts (opc, nopc)                        |\\n\",\n",
    "    \"| business_or_commercial    | Indicates whether the loan is for business/commercial purposes (ob/c - business/commercial, nob/c - personal) |\\n\",\n",
    "    \"| loan_amount               | Amount of money being borrowed                                                                   |\\n\",\n",
    "    \"| rate_of_interest          | Interest rate charged on the loan                                                                 |\\n\",\n",
    "    \"| Interest_rate_spread      | Difference between the interest rate on the loan and a benchmark interest rate                    |\\n\",\n",
    "    \"| Upfront_charges           | Initial charges associated with securing the loan                                                 |\\n\",\n",
    "    \"| term                      | Duration of the loan in months                                                                    |\\n\",\n",
    "    \"| Neg_ammortization         | Indicates whether the loan allows for negative amortization (neg_amm, not_neg)                   |\\n\",\n",
    "    \"| interest_only             | Indicates whether the loan has an interest-only payment option (int_only, not_int)                |\\n\",\n",
    "    \"| lump_sum_payment          | Indicates if a lump sum payment is required at the end of the loan term (lpsm, not_lpsm)          |\\n\",\n",
    "    \"| property_value            | Value of the property being financed                                                               |\\n\",\n",
    "    \"| construction_type         | Type of construction (sb - site built, mh - manufactured home)                                   |\\n\",\n",
    "    \"| occupancy_type            | Occupancy type (pr - primary residence, sr- secondary residence, ir - investment property)        |\\n\",\n",
    "    \"| Secured_by                | Specifies the type of collateral securing the loan (home, land)                                  |\\n\",\n",
    "    \"| total_units               | Number of units in the property being financed (1U, 2U, 3U, 4U)                                 |\\n\",\n",
    "    \"| income                    | Applicant's annual income                                                                         |\\n\",\n",
    "    \"| credit_type               | Applicant's type of credit (CIB - Credit Information Bureau, CRIF - CIRF Credit Information Bureau, EXP - Experian, EQUI - Equifax) |\\n\",\n",
    "    \"| Credit_Score              | Applicant's credit score                                                                          |\\n\",\n",
    "    \"| co-applicant_credit_type  | Co-applicant's type of credit (CIB - Credit Information Bureau, EXP - Experian)                  |\\n\",\n",
    "    \"| age                       | The age of the applicant                                                                          |\\n\",\n",
    "    \"| submission_of_application | Indicates how the application was submitted (to_inst - to institution, not_inst - not to institution) |\\n\",\n",
    "    \"| LTV                       | Loan-to-value ratio, calculated as the loan amount divided by the property value                  |\\n\",\n",
    "    \"| Region                    | Geographic region where the property is located (North, South, Central, North-East)              |\\n\",\n",
    "    \"| Security_Type             | Type of security or collateral backing the loan (direct, indirect)                               |\\n\",\n",
    "    \"| Status                    | Indicates whether the loan has been defaulted (1) or not (0)                                     |\\n\",\n",
    "    \"| dtir1                     | Debt-to-income ratio                                                                              |\\n\""
   ]
  },
  {
   "cell_type": "code",
   "execution_count": 65,
   "metadata": {},
   "outputs": [],
   "source": [
    "data = pd.read_csv(\"https://raw.githubusercontent.com/Kolo-Naukowe-Data-Science-PW/ML_intro_24-25/refs/heads/main/data/Loan_Default.csv\")\n",
    "data = data.drop(columns=['ID', 'year'])"
   ]
  },
  {
   "cell_type": "code",
   "execution_count": null,
   "metadata": {},
   "outputs": [],
   "source": [
    "from sklearn.pipeline import Pipeline\n",
    "from sklearn.compose import ColumnTransformer\n",
    "from sklearn.impute import KNNImputer,SimpleImputer\n",
    "from sklearn.preprocessing import StandardScaler,OneHotEncoder,OrdinalEncoder,TargetEncoder\n",
    "from sklearn.base import BaseEstimator, TransformerMixin\n",
    "\n",
    "from feature_engine.imputation import RandomSampleImputer\n",
    "from feature_engine.transformation import BoxCoxTransformer\n",
    "from feature_engine.outliers import OutlierTrimmer\n",
    "\n",
    "from category_encoders.leave_one_out import LeaveOneOutEncoder\n",
    "from category_encoders.james_stein import JamesSteinEncoder"
   ]
  },
  {
   "cell_type": "code",
   "execution_count": 57,
   "metadata": {},
   "outputs": [],
   "source": [
    "import numpy as np\n",
    "class Log1pTransformera(BaseEstimator,TransformerMixin):\n",
    "\n",
    "    def __init__(self):\n",
    "        pass\n",
    "    def fit(self,X,y=None):\n",
    "        return self\n",
    "    \n",
    "    def transform(self,X):\n",
    "        X_transformed = np.log1p(X)\n",
    "        if self.output_type == 'pandas':\n",
    "            if isinstance(X, pd.DataFrame):\n",
    "                return pd.DataFrame(X_transformed, index=X.index, columns=X.columns)\n",
    "            else:\n",
    "                return pd.DataFrame(X_transformed)\n",
    "        return X_transformed\n",
    "    \n",
    "    def set_output(self,transform='pandas'):\n",
    "        self.transform = transform\n",
    "        return self"
   ]
  },
  {
   "cell_type": "code",
   "execution_count": 108,
   "metadata": {},
   "outputs": [],
   "source": [
    "class ProcessedDataGenerator:\n",
    "\n",
    "    def __init__(self,df):\n",
    "        self.data = df\n",
    "        self.is_fitted = False\n",
    "        self.main_pipeline = None\n",
    "\n",
    "        # imputing missing values\n",
    "        self.knn_imputer_numerical = None\n",
    "        self.mean_imputer_numerical = None\n",
    "        self.randiom_sample_imputer = RandomSampleImputer()\n",
    "\n",
    "        # scaling\n",
    "        self.standard_scaler = StandardScaler()\n",
    "        self.log1p_transformer = Log1pTransformera()\n",
    "        self.boxcox_transformer = BoxCoxTransformer()\n",
    "\n",
    "        #handling outliers\n",
    "        self.outlier_trimmer = None\n",
    "\n",
    "        # categorical encoding\n",
    "        self.onehot_encoder = OneHotEncoder(sparse_output=False)\n",
    "        self.ordinal_encoder = OrdinalEncoder()\n",
    "        self.target_encoder = TargetEncoder()\n",
    "\n",
    "        #more fancy\n",
    "        self.leave_one_out_encoder = LeaveOneOutEncoder()\n",
    "        self.james_stein_encoder = JamesSteinEncoder()\n",
    "\n",
    "        \n",
    "\n",
    "    def check_disjoint(self,sets):\n",
    "        for i in range(len(sets)):\n",
    "            for j in range(i+1,len(sets)):\n",
    "                if(sets[i].isdisjoint(sets[j]) == False):\n",
    "                    return False\n",
    "                \n",
    "        return True\n",
    "\n",
    "    def fit(self,X,y,**args):\n",
    "        self.categorical_cols = X.select_dtypes(include='object').columns.tolist()\n",
    "        self.categorical_cols.remove('total_units')\n",
    "\n",
    "        self.numerical_cols = X.select_dtypes(exclude='object').columns.tolist()\n",
    "        self.numerical_cols.append('total_units')\n",
    "\n",
    "        X[\"total_units\"] = X[\"total_units\"].apply(lambda x: x[0]).astype(int)\n",
    "\n",
    "        #---------------------------------------Imputing Columns----------------------------------------------\n",
    "        \n",
    "        imputer_transformers = []\n",
    "\n",
    "        if(args.get('imputer_for_numerical') == KNNImputer):\n",
    "            self.knn_imputer_numerical = KNNImputer(n_neighbors=args['numerical_simple_imputer_knn'])\n",
    "            imputer_transformers.append(('numerical_imputer',self.knn_imputer_numerical,self.numerical_cols))\n",
    "        elif(args['imputer_for_numerical'] == SimpleImputer):\n",
    "            self.mean_imputer_numerical = SimpleImputer(strategy=args['numerical_simple_imputer_strategy'])\n",
    "            imputer_transformers.append(('numerical_imputer',self.mean_imputer_numerical,self.numerical_cols))\n",
    "        else:\n",
    "            raise ValueError(\"No imputer for numerical columns\")\n",
    "        \n",
    "        imputer_transformers.append(('categorical_imputer',self.randiom_sample_imputer,self.categorical_cols))\n",
    "\n",
    "        imputer_column_transfer = ColumnTransformer(\n",
    "            transformers=imputer_transformers,remainder='passthrough',verbose_feature_names_out=False\n",
    "        ).set_output(transform='pandas')\n",
    "\n",
    "        #---------------------------------------Handling Outliers----------------------------------------------\n",
    "\n",
    "        outlier_transformers = []\n",
    "\n",
    "        if(args['handle_outliers']):\n",
    "            self.outlier_trimmer = OutlierTrimmer(capping_method=args['handle_outlier_method'])\n",
    "            outlier_transformers.append(('handling_outliers',self.outlier_trimmer,args['cols_for_outlier_trimmer']))\n",
    "\n",
    "        outliers_column_transfer = ColumnTransformer(\n",
    "            transformers=outlier_transformers,remainder='passthrough',verbose_feature_names_out=False\n",
    "        ).set_output(transform='pandas')\n",
    "\n",
    "        #---------------------------------------Scaling Numerical Cols----------------------------------------------\n",
    "\n",
    "        scaling_transformers = []\n",
    "\n",
    "        set_standard_scaler = set(args['cols_for_standard_scaler'])\n",
    "        set_log1p = set(args['cols_for_log1p_transformer'])\n",
    "        set_boxcox = set(args['cols_for_boxcox_transformer'])\n",
    "\n",
    "        if(self.check_disjoint([set_standard_scaler,set_log1p,set_boxcox]) == False):\n",
    "            raise ValueError(\"Columns for scaling transformers overlap\")\n",
    "\n",
    "        scaling_transformers.append(('standard_scaler',self.standard_scaler,args['cols_for_standard_scaler']))\n",
    "        scaling_transformers.append(('log1p_transformer',self.log1p_transformer,args['cols_for_log1p_transformer']))\n",
    "        scaling_transformers.append(('boxcox_transformer',self.boxcox_transformer,args['cols_for_boxcox_transformer']))\n",
    "\n",
    "        scaling_column_transfer = ColumnTransformer(\n",
    "            transformers=scaling_transformers,remainder='passthrough',verbose_feature_names_out=False\n",
    "        ).set_output(transform='pandas')\n",
    "\n",
    "        #---------------------------------------Categorical Encoding----------------------------------------------\n",
    "        encoding_transformers = []\n",
    "\n",
    "        set_onehot = set(args['cols_for_onehot_encoder'])\n",
    "        set_ordinal = set(args['cols_for_ordinal_encoder'])\n",
    "        set_target = set(args['cols_for_target_encoder'])\n",
    "        set_leave_one_out = set(args['cols_for_leave_one_out_encoder'])\n",
    "        set_james_stein = set(args['cols_for_james_stein_encoder'])\n",
    "\n",
    "        if(self.check_disjoint([set_onehot,set_ordinal,set_target,set_leave_one_out,set_james_stein]) == False):\n",
    "            raise ValueError(\"Columns for encoding transformers overlap\")\n",
    "        \n",
    "        encoding_transformers.append(('onehot_encoder',self.onehot_encoder,args['cols_for_onehot_encoder']))\n",
    "        encoding_transformers.append(('ordinal_encoder',self.ordinal_encoder,args['cols_for_ordinal_encoder']))\n",
    "        encoding_transformers.append(('target_encoder',self.target_encoder,args['cols_for_target_encoder']))\n",
    "        encoding_transformers.append(('leave_one_out_encoder',self.leave_one_out_encoder,args['cols_for_leave_one_out_encoder']))\n",
    "        encoding_transformers.append(('james_stein_encoder',self.james_stein_encoder,args['cols_for_james_stein_encoder']))\n",
    "\n",
    "        encoding_column_transformers = ColumnTransformer(\n",
    "            transformers=encoding_transformers,remainder='passthrough',verbose_feature_names_out=False\n",
    "        ).set_output(transform='pandas')\n",
    "\n",
    "        self.main_pipeline = Pipeline(\n",
    "            steps=[\n",
    "                ('imputer',imputer_column_transfer),\n",
    "                ('outliers',outliers_column_transfer),\n",
    "                ('scaling',scaling_column_transfer),\n",
    "                ('encoding',encoding_column_transformers)\n",
    "\n",
    "            ]\n",
    "        )\n",
    "        self.is_fitted = True\n",
    "        self.main_pipeline.fit(X,y)\n",
    "\n",
    "\n",
    "    def transform(self,X):\n",
    "        if(self.is_fitted==False):\n",
    "            raise ValueError(\"Transformer not fitted\")\n",
    "        return self.main_pipeline.transform(X)\n",
    "    \n",
    "    def fit_transform(self,X,y):\n",
    "        return self.fit(X,y).transform(X)"
   ]
  },
  {
   "cell_type": "code",
   "execution_count": 109,
   "metadata": {},
   "outputs": [],
   "source": [
    "params_all_comb = {\n",
    "    \"handle_outliers\" : True,\n",
    "    \"handle_outlier_method\":'iqr',\n",
    "    \"cols_for_outlier_trimmer\": ['Credit_Score'],\n",
    "\n",
    "    \"imputer_for_numerical\":SimpleImputer,\n",
    "    \"numerical_simple_imputer_strategy\":'mean',\n",
    "    \"numerical_simple_imputer_knn\":3,\n",
    "\n",
    "    \"imputer_for_categorical\":RandomSampleImputer,\n",
    "\n",
    "    \"cols_for_standard_scaler\": ['loan_amount','Credit_Score'],\n",
    "    \"cols_for_log1p_transformer\": [],\n",
    "    \"cols_for_boxcox_transformer\": [],\n",
    "\n",
    "    \"cols_for_onehot_encoder\": ['age'],\n",
    "    \"cols_for_ordinal_encoder\": ['loan_purpose'],\n",
    "    \"cols_for_target_encoder\": [],\n",
    "\n",
    "    \"cols_for_leave_one_out_encoder\": [],\n",
    "    \"cols_for_james_stein_encoder\": []\n",
    "}\n"
   ]
  },
  {
   "cell_type": "code",
   "execution_count": 110,
   "metadata": {},
   "outputs": [],
   "source": [
    "processor = ProcessedDataGenerator(data)\n",
    "y = data[['Status']]\n",
    "X = data.drop(columns=['Status'])\n",
    "processor.fit(X,y,**params_all_comb)"
   ]
  }
 ],
 "metadata": {
  "kernelspec": {
   "display_name": "base",
   "language": "python",
   "name": "python3"
  },
  "language_info": {
   "codemirror_mode": {
    "name": "ipython",
    "version": 3
   },
   "file_extension": ".py",
   "mimetype": "text/x-python",
   "name": "python",
   "nbconvert_exporter": "python",
   "pygments_lexer": "ipython3",
   "version": "3.11.5"
  }
 },
 "nbformat": 4,
 "nbformat_minor": 2
}
