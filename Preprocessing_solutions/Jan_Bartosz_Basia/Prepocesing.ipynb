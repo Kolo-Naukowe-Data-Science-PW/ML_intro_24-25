{
 "cells": [
  {
   "cell_type": "code",
   "execution_count": 13,
   "metadata": {},
   "outputs": [],
   "source": [
    "import pandas as pd\n",
    "\n",
    "from sklearn.model_selection import train_test_split\n",
    "from sklearn.preprocessing import StandardScaler"
   ]
  },
  {
   "cell_type": "code",
   "execution_count": null,
   "metadata": {},
   "outputs": [],
   "source": [
    "data = pd.read_csv(\"https://raw.githubusercontent.com/Kolo-Naukowe-Data-Science-PW/ML_intro_24-25/refs/heads/main/data/Loan_Default.csv\")"
   ]
  },
  {
   "cell_type": "code",
   "execution_count": 11,
   "metadata": {},
   "outputs": [],
   "source": [
    "y = data['Status']\n",
    "x = data.drop(['Status', 'ID', 'year'], axis=1) # Usunięcie kolumn ID i year, nic nie wniosą do modelu"
   ]
  },
  {
   "cell_type": "code",
   "execution_count": 14,
   "metadata": {},
   "outputs": [],
   "source": [
    "X_train, X_test, y_train, y_test = train_test_split(x, y, test_size=0.2, random_state=42)"
   ]
  },
  {
   "cell_type": "code",
   "execution_count": 18,
   "metadata": {},
   "outputs": [
    {
     "name": "stdout",
     "output_type": "stream",
     "text": [
      "Braki w danych Kateogrycznych\n"
     ]
    },
    {
     "data": {
      "text/plain": [
       "loan_limit                   3344\n",
       "Gender                          0\n",
       "approv_in_adv                 908\n",
       "loan_type                       0\n",
       "loan_purpose                  134\n",
       "Credit_Worthiness               0\n",
       "open_credit                     0\n",
       "business_or_commercial          0\n",
       "Neg_ammortization             121\n",
       "interest_only                   0\n",
       "lump_sum_payment                0\n",
       "construction_type               0\n",
       "occupancy_type                  0\n",
       "Secured_by                      0\n",
       "total_units                     0\n",
       "credit_type                     0\n",
       "co-applicant_credit_type        0\n",
       "age                           200\n",
       "submission_of_application     200\n",
       "Region                          0\n",
       "Security_Type                   0\n",
       "dtype: int64"
      ]
     },
     "execution_count": 18,
     "metadata": {},
     "output_type": "execute_result"
    }
   ],
   "source": [
    "categorical_columns = [col for col in X_train.columns if X_train[col].dtype == 'object']\n",
    "numerical_columns = [col for col in X_train.columns if X_train[col].dtype in ['int64', 'float64']]\n",
    "\n",
    "print(\"Braki w danych Kateogrycznych\")\n",
    "data[categorical_columns].isnull().sum() "
   ]
  },
  {
   "cell_type": "code",
   "execution_count": 19,
   "metadata": {},
   "outputs": [
    {
     "name": "stdout",
     "output_type": "stream",
     "text": [
      "Braki w danych Numerycznych\n"
     ]
    },
    {
     "data": {
      "text/plain": [
       "loan_amount                 0\n",
       "rate_of_interest        36439\n",
       "Interest_rate_spread    36639\n",
       "Upfront_charges         39642\n",
       "term                       41\n",
       "property_value          15098\n",
       "income                   9150\n",
       "Credit_Score                0\n",
       "LTV                     15098\n",
       "dtir1                   24121\n",
       "dtype: int64"
      ]
     },
     "execution_count": 19,
     "metadata": {},
     "output_type": "execute_result"
    }
   ],
   "source": [
    "print(\"Braki w danych Numerycznych\")\n",
    "data[numerical_columns].isnull().sum()"
   ]
  },
  {
   "cell_type": "code",
   "execution_count": 22,
   "metadata": {},
   "outputs": [
    {
     "data": {
      "text/plain": [
       "loan_limit  Gender             approv_in_adv  loan_type  loan_purpose  Credit_Worthiness  open_credit  business_or_commercial  Neg_ammortization  interest_only  lump_sum_payment  construction_type  occupancy_type  Secured_by  total_units  credit_type  co-applicant_credit_type  age    submission_of_application  Region  Security_Type\n",
       "cf          Joint              nopre          type1      p4            l1                 nopc         nob/c                   not_neg            not_int        not_lpsm          sb                 pr              home        1U           CIB          EXP                       35-44  not_inst                   North   direct           432\n",
       "            Sex Not Available  nopre          type1      p3            l1                 nopc         nob/c                   not_neg            not_int        not_lpsm          sb                 pr              home        1U           CRIF         CIB                       55-64  to_inst                    south   direct           404\n",
       "                                                                                                                                                                                                                                               CIB          CIB                       55-64  to_inst                    south   direct           393\n",
       "            Joint              nopre          type1      p4            l1                 nopc         nob/c                   not_neg            not_int        not_lpsm          sb                 pr              home        1U           CRIF         EXP                       35-44  not_inst                   North   direct           337\n",
       "            Sex Not Available  nopre          type1      p3            l1                 nopc         nob/c                   not_neg            not_int        not_lpsm          sb                 pr              home        1U           CIB          CIB                       45-54  to_inst                    south   direct           325\n",
       "                                                                                                                                                                                                                                                                                                                                                ... \n",
       "            Female             nopre          type1      p1            l1                 nopc         nob/c                   neg_amm            int_only       not_lpsm          sb                 pr              home        1U           EXP          CIB                       45-54  to_inst                    North   direct             1\n",
       "                                                                                                                                                                                                                                                                                      35-44  not_inst                   North   direct             1\n",
       "                                                                                                                                                                                                                                               EQUI         EXP                       45-54  to_inst                    North   direct             1\n",
       "                                                                                                                                                                                                                                               CRIF         CIB                       55-64  to_inst                    south   direct             1\n",
       "                                                                                                                                                                                                                                               CIB          CIB                       <25    not_inst                   south   direct             1\n",
       "Name: count, Length: 30331, dtype: int64"
      ]
     },
     "execution_count": 22,
     "metadata": {},
     "output_type": "execute_result"
    }
   ],
   "source": [
    "data[categorical_columns].value_counts()"
   ]
  },
  {
   "cell_type": "markdown",
   "metadata": {},
   "source": [
    "## TODO\n",
    "* Poeksperymentować z rónymi wariantami pipeline'ów, potestować rózne uzupełnianie braków, kodowanie zmiennych kategorycznych\n",
    "*  "
   ]
  }
 ],
 "metadata": {
  "kernelspec": {
   "display_name": "venv",
   "language": "python",
   "name": "python3"
  },
  "language_info": {
   "codemirror_mode": {
    "name": "ipython",
    "version": 3
   },
   "file_extension": ".py",
   "mimetype": "text/x-python",
   "name": "python",
   "nbconvert_exporter": "python",
   "pygments_lexer": "ipython3",
   "version": "3.11.5"
  }
 },
 "nbformat": 4,
 "nbformat_minor": 2
}
