{
 "cells": [
  {
   "cell_type": "markdown",
   "metadata": {},
   "source": [
    "### Eksploracyjna analiza danych\n",
    "Zbiór danych który analizujemy to Loan_Default.csv, zawiera on dane o kredytobiorcach pewnego banku."
   ]
  },
  {
   "cell_type": "markdown",
   "metadata": {},
   "source": [
    "Importowanie bibliotek:"
   ]
  },
  {
   "cell_type": "code",
   "execution_count": 30,
   "metadata": {},
   "outputs": [],
   "source": [
    "import pandas as pd\n",
    "import seaborn as sns\n",
    "import matplotlib.pyplot as plt"
   ]
  },
  {
   "cell_type": "markdown",
   "metadata": {},
   "source": [
    "Wczytanie zbioru danych:"
   ]
  },
  {
   "cell_type": "code",
   "execution_count": 31,
   "metadata": {},
   "outputs": [],
   "source": [
    "df = pd.read_csv(\"../../data/Loan_Default.csv\")"
   ]
  },
  {
   "cell_type": "markdown",
   "metadata": {},
   "source": [
    "Rozmiar zbioru danych:"
   ]
  },
  {
   "cell_type": "code",
   "execution_count": 32,
   "metadata": {},
   "outputs": [
    {
     "data": {
      "text/plain": [
       "(148670, 34)"
      ]
     },
     "execution_count": 32,
     "metadata": {},
     "output_type": "execute_result"
    }
   ],
   "source": [
    "df.shape"
   ]
  },
  {
   "cell_type": "markdown",
   "metadata": {},
   "source": [
    "Jak widać w naszym zbiorze danych mamy 148670 rekordów z 34 zmiennymi.<br>\n",
    "Występują w nim zarówno zmienne numeryczne, jak i kategoryczne:"
   ]
  },
  {
   "cell_type": "code",
   "execution_count": 33,
   "metadata": {},
   "outputs": [
    {
     "name": "stdout",
     "output_type": "stream",
     "text": [
      "Ilość zmiennych numerycznych: 13\n",
      "Zmienne numeryczne: ['ID', 'year', 'loan_amount', 'rate_of_interest', 'Interest_rate_spread', 'Upfront_charges', 'term', 'property_value', 'income', 'Credit_Score', 'LTV', 'Status', 'dtir1']\n",
      "Ilość zmiennych kategorycznych: 21\n",
      "Zmienne kategoryczne: ['loan_limit', 'Gender', 'approv_in_adv', 'loan_type', 'loan_purpose', 'Credit_Worthiness', 'open_credit', 'business_or_commercial', 'Neg_ammortization', 'interest_only', 'lump_sum_payment', 'construction_type', 'occupancy_type', 'Secured_by', 'total_units', 'credit_type', 'co-applicant_credit_type', 'age', 'submission_of_application', 'Region', 'Security_Type']\n"
     ]
    }
   ],
   "source": [
    "numeric_variables = df.select_dtypes(include='number').columns.to_list()\n",
    "categorical_variables = df.select_dtypes(exclude='number').columns.to_list()\n",
    "print(f'Ilość zmiennych numerycznych: {len(numeric_variables)}')\n",
    "print(f'Zmienne numeryczne: {numeric_variables}')\n",
    "print(f'Ilość zmiennych kategorycznych: {len(categorical_variables)}')\n",
    "print(f'Zmienne kategoryczne: {categorical_variables}')"
   ]
  },
  {
   "cell_type": "markdown",
   "metadata": {},
   "source": [
    "W niektórych kolumnach występują braki danych:"
   ]
  },
  {
   "cell_type": "code",
   "execution_count": 34,
   "metadata": {},
   "outputs": [
    {
     "name": "stdout",
     "output_type": "stream",
     "text": [
      "Kolumny z brakami danych: ['loan_limit', 'approv_in_adv', 'loan_purpose', 'rate_of_interest', 'Interest_rate_spread', 'Upfront_charges', 'term', 'Neg_ammortization', 'property_value', 'income', 'age', 'submission_of_application', 'LTV', 'dtir1']\n",
      "Ilość kolumn z brakami danych: 14\n"
     ]
    }
   ],
   "source": [
    "na_columns = df.columns[df.isna().any()].to_list()\n",
    "print(f\"Kolumny z brakami danych: {na_columns}\")\n",
    "print(f\"Ilość kolumn z brakami danych: {len(na_columns)}\")"
   ]
  }
 ],
 "metadata": {
  "kernelspec": {
   "display_name": "Python 3",
   "language": "python",
   "name": "python3"
  },
  "language_info": {
   "codemirror_mode": {
    "name": "ipython",
    "version": 3
   },
   "file_extension": ".py",
   "mimetype": "text/x-python",
   "name": "python",
   "nbconvert_exporter": "python",
   "pygments_lexer": "ipython3",
   "version": "3.12.7"
  }
 },
 "nbformat": 4,
 "nbformat_minor": 2
}
